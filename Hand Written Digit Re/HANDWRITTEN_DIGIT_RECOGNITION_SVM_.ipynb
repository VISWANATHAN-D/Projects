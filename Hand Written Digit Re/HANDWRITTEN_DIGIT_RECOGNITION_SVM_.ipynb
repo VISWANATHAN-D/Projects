{
  "nbformat": 4,
  "nbformat_minor": 0,
  "metadata": {
    "colab": {
      "provenance": []
    },
    "kernelspec": {
      "name": "python3",
      "display_name": "Python 3"
    },
    "language_info": {
      "name": "python"
    }
  },
  "cells": [
    {
      "cell_type": "markdown",
      "source": [
        "**HANDWRITTEN DIGIT RECOGNITION | SVM**"
      ],
      "metadata": {
        "id": "KHhBPt12_s2i"
      }
    },
    {
      "cell_type": "markdown",
      "source": [
        "importing basic libraries"
      ],
      "metadata": {
        "id": "G45dvNUjEYbm"
      }
    },
    {
      "cell_type": "code",
      "source": [
        "import numpy as np #libraries for array like\n",
        "from sklearn.datasets import load_digits #load dataset from sklearn"
      ],
      "metadata": {
        "id": "bs7xgnCREexC"
      },
      "execution_count": null,
      "outputs": []
    },
    {
      "cell_type": "markdown",
      "source": [
        "load datasets"
      ],
      "metadata": {
        "id": "9bMWDFCcE1NM"
      }
    },
    {
      "cell_type": "code",
      "source": [
        "dataset = load_digits()\n"
      ],
      "metadata": {
        "id": "egxLfmqYEPYE"
      },
      "execution_count": null,
      "outputs": []
    },
    {
      "cell_type": "markdown",
      "source": [
        "summarize the dataset"
      ],
      "metadata": {
        "id": "5aiOdwhFFUVu"
      }
    },
    {
      "cell_type": "code",
      "execution_count": null,
      "metadata": {
        "colab": {
          "base_uri": "https://localhost:8080/"
        },
        "id": "MJJ-ACgw_TBM",
        "outputId": "37c202b8-3f53-437e-8efa-1316be59142e"
      },
      "outputs": [
        {
          "output_type": "stream",
          "name": "stdout",
          "text": [
            "[[ 0.  0.  5. ...  0.  0.  0.]\n",
            " [ 0.  0.  0. ... 10.  0.  0.]\n",
            " [ 0.  0.  0. ... 16.  9.  0.]\n",
            " ...\n",
            " [ 0.  0.  1. ...  6.  0.  0.]\n",
            " [ 0.  0.  2. ... 12.  0.  0.]\n",
            " [ 0.  0. 10. ... 12.  1.  0.]]\n",
            "[0 1 2 ... 8 9 8]\n",
            "(1797, 64)\n",
            "(1797, 8, 8)\n",
            "1797\n"
          ]
        }
      ],
      "source": [
        "print(dataset.data)\n",
        "print(dataset.target)\n",
        "\n",
        "print(dataset.data.shape) #total sample & dimension\n",
        "print(dataset.images.shape)\n",
        "\n",
        "dataimageLength = len(dataset.images)\n",
        "print(dataimageLength) #total sample class"
      ]
    },
    {
      "cell_type": "markdown",
      "source": [
        "visualize the dataset"
      ],
      "metadata": {
        "id": "fX7CqnffG4dD"
      }
    },
    {
      "cell_type": "code",
      "source": [
        "n=7 #no. of sample select from total sample(1797)\n",
        "\n",
        "import matplotlib.pyplot as plt   #data visualisation\n",
        "plt.gray()\n",
        "plt.matshow(dataset.images[n])\n",
        "plt.show()\n",
        "\n",
        "dataset.images[n]"
      ],
      "metadata": {
        "colab": {
          "base_uri": "https://localhost:8080/",
          "height": 431
        },
        "id": "m1pQcZ0QG-tP",
        "outputId": "d344866b-0768-4bc9-f8bb-82e007606faa"
      },
      "execution_count": null,
      "outputs": [
        {
          "output_type": "display_data",
          "data": {
            "text/plain": [
              "<Figure size 432x288 with 0 Axes>"
            ]
          },
          "metadata": {}
        },
        {
          "output_type": "display_data",
          "data": {
            "text/plain": [
              "<Figure size 288x288 with 1 Axes>"
            ],
            "image/png": "[encoded data removed]"
          },
          "metadata": {
            "needs_background": "light"
          }
        },
        {
          "output_type": "execute_result",
          "data": {
            "text/plain": [
              "array([[ 0.,  0.,  7.,  8., 13., 16., 15.,  1.],\n",
              "       [ 0.,  0.,  7.,  7.,  4., 11., 12.,  0.],\n",
              "       [ 0.,  0.,  0.,  0.,  8., 13.,  1.,  0.],\n",
              "       [ 0.,  4.,  8.,  8., 15., 15.,  6.,  0.],\n",
              "       [ 0.,  2., 11., 15., 15.,  4.,  0.,  0.],\n",
              "       [ 0.,  0.,  0., 16.,  5.,  0.,  0.,  0.],\n",
              "       [ 0.,  0.,  9., 15.,  1.,  0.,  0.,  0.],\n",
              "       [ 0.,  0., 13.,  5.,  0.,  0.,  0.,  0.]])"
            ]
          },
          "metadata": {},
          "execution_count": 28
        }
      ]
    },
    {
      "cell_type": "markdown",
      "source": [
        "segregate dataset into x(input) & y(output)"
      ],
      "metadata": {
        "id": "ZuOMhCQuIvMT"
      }
    },
    {
      "cell_type": "code",
      "source": [
        "x = dataset.images.reshape((dataimageLength,-1))\n",
        "x"
      ],
      "metadata": {
        "colab": {
          "base_uri": "https://localhost:8080/"
        },
        "id": "IMdcSqhcI7At",
        "outputId": "faa65270-e7d1-435a-e66e-6e5050a7e1af"
      },
      "execution_count": null,
      "outputs": [
        {
          "output_type": "execute_result",
          "data": {
            "text/plain": [
              "array([[ 0.,  0.,  5., ...,  0.,  0.,  0.],\n",
              "       [ 0.,  0.,  0., ..., 10.,  0.,  0.],\n",
              "       [ 0.,  0.,  0., ..., 16.,  9.,  0.],\n",
              "       ...,\n",
              "       [ 0.,  0.,  1., ...,  6.,  0.,  0.],\n",
              "       [ 0.,  0.,  2., ..., 12.,  0.,  0.],\n",
              "       [ 0.,  0., 10., ..., 12.,  1.,  0.]])"
            ]
          },
          "metadata": {},
          "execution_count": 26
        }
      ]
    },
    {
      "cell_type": "code",
      "source": [
        "y = dataset.target\n",
        "y"
      ],
      "metadata": {
        "colab": {
          "base_uri": "https://localhost:8080/"
        },
        "id": "tLnFIbdIJPCo",
        "outputId": "d1342226-6c3c-4878-a459-413d42c4213d"
      },
      "execution_count": null,
      "outputs": [
        {
          "output_type": "execute_result",
          "data": {
            "text/plain": [
              "array([0, 1, 2, ..., 8, 9, 8])"
            ]
          },
          "metadata": {},
          "execution_count": 27
        }
      ]
    },
    {
      "cell_type": "markdown",
      "source": [
        "splitting dataset into train & test"
      ],
      "metadata": {
        "id": "htKjDnyWJecn"
      }
    },
    {
      "cell_type": "code",
      "source": [
        "from sklearn.model_selection import train_test_split\n",
        "x_train, x_test, y_train, y_test = train_test_split(x, y, test_size = 0.25, random_state = 0)\n",
        "print(x_train.shape)\n",
        "print(x_test.shape)\n"
      ],
      "metadata": {
        "colab": {
          "base_uri": "https://localhost:8080/"
        },
        "id": "I5lpyrIZJpIn",
        "outputId": "310429c8-acb6-42ed-e6a3-06f4ee24a371"
      },
      "execution_count": null,
      "outputs": [
        {
          "output_type": "stream",
          "name": "stdout",
          "text": [
            "(1347, 64)\n",
            "(450, 64)\n"
          ]
        }
      ]
    },
    {
      "cell_type": "markdown",
      "source": [
        "training"
      ],
      "metadata": {
        "id": "1SkeNp-vLS27"
      }
    },
    {
      "cell_type": "code",
      "source": [
        "from sklearn import svm\n",
        "model =svm.SVC()\n",
        "model.fit(x_train, y_train)"
      ],
      "metadata": {
        "colab": {
          "base_uri": "https://localhost:8080/"
        },
        "id": "Sipqg15iLU3M",
        "outputId": "9e13d6f8-4ec5-40e4-af69-4414183a1656"
      },
      "execution_count": null,
      "outputs": [
        {
          "output_type": "execute_result",
          "data": {
            "text/plain": [
              "SVC()"
            ]
          },
          "metadata": {},
          "execution_count": 9
        }
      ]
    },
    {
      "cell_type": "markdown",
      "source": [
        "predicting, what the digit is from test data"
      ],
      "metadata": {
        "id": "PVpXiNuBMTV-"
      }
    },
    {
      "cell_type": "code",
      "source": [
        "n = 1000\n",
        "result = model.predict(dataset.images[n].reshape((1,-1)))\n",
        "plt.imshow(dataset.images[n], cmap = plt.cm.gray_r, interpolation= 'nearest')\n",
        "print(result)\n",
        "print(\"\\n\")\n",
        "plt.axis('off')\n",
        "plt.title('%i' %result)\n",
        "plt.show()"
      ],
      "metadata": {
        "colab": {
          "base_uri": "https://localhost:8080/",
          "height": 316
        },
        "id": "IMz4EhJUMhr7",
        "outputId": "835742e9-f8f4-4628-eba0-ed0529b2ecda"
      },
      "execution_count": null,
      "outputs": [
        {
          "output_type": "stream",
          "name": "stdout",
          "text": [
            "[1]\n",
            "\n",
            "\n"
          ]
        },
        {
          "output_type": "display_data",
          "data": {
            "text/plain": [
              "<Figure size 432x288 with 1 Axes>"
            ],
            "image/png": "[encoded data removed]"
          },
          "metadata": {
            "needs_background": "light"
          }
        }
      ]
    },
    {
      "cell_type": "markdown",
      "source": [
        "prediction for test data"
      ],
      "metadata": {
        "id": "X050vOnnNhY2"
      }
    },
    {
      "cell_type": "code",
      "source": [
        "y_pred = model.predict(x_test)\n",
        "#print(np.concatenate((y_pred.reshape(len(y_pred),1),y_test.reshape(len(y_test),1)),1))"
      ],
      "metadata": {
        "id": "pyUaTu8iMc9I"
      },
      "execution_count": null,
      "outputs": []
    },
    {
      "cell_type": "markdown",
      "source": [
        "evaluate model-accuracy score"
      ],
      "metadata": {
        "id": "e4tPVfviObe3"
      }
    },
    {
      "cell_type": "code",
      "source": [
        "from sklearn.metrics import accuracy_score\n",
        "print(\"accuracy of the model: {0}%\".format(accuracy_score(y_test, y_pred)*100))"
      ],
      "metadata": {
        "colab": {
          "base_uri": "https://localhost:8080/"
        },
        "id": "Lptisk5KOh29",
        "outputId": "6e60923b-be62-4ddb-95d1-cb0a76b7e10f"
      },
      "execution_count": null,
      "outputs": [
        {
          "output_type": "stream",
          "name": "stdout",
          "text": [
            "accuracy of the model: 99.11111111111111%\n"
          ]
        }
      ]
    },
    {
      "cell_type": "markdown",
      "source": [
        "play with different parameter method"
      ],
      "metadata": {
        "id": "oXClLO79QLOX"
      }
    },
    {
      "cell_type": "code",
      "source": [
        "from sklearn import svm\n",
        "model1 = svm.SVC(kernel = 'linear')\n",
        "model3 = svm.SVC(gamma = 0.001)\n",
        "model4 = svm.SVC(gamma = 0.001, C=0.1)\n",
        "\n",
        "\n",
        "model1.fit(x_train, y_train)\n",
        "model3.fit(x_train, y_train)\n",
        "model4.fit(x_train, y_train)\n",
        "\n",
        "\n",
        "y_predmodel1 = model1.predict(x_test)\n",
        "y_predmodel3 = model3.predict(x_test)\n",
        "y_predmodel4 = model4.predict(x_test)\n",
        "\n",
        "\n",
        "\n",
        "print(\"accuracy of the model 1: {0}%\".format(accuracy_score(y_test, y_predmodel1)*100))\n",
        "print(\"accuracy of the model 3: {0}%\".format(accuracy_score(y_test, y_predmodel3)*100))\n",
        "print(\"accuracy of the model 4: {0}%\".format(accuracy_score(y_test, y_predmodel4)*100))"
      ],
      "metadata": {
        "colab": {
          "base_uri": "https://localhost:8080/"
        },
        "id": "WalbSos2QSGI",
        "outputId": "bf5f7380-f9db-4092-fea0-8f78b9a1ec92"
      },
      "execution_count": null,
      "outputs": [
        {
          "output_type": "stream",
          "name": "stdout",
          "text": [
            "accuracy of the model 1: 97.11111111111111%\n",
            "accuracy of the model 3: 99.55555555555556%\n",
            "accuracy of the model 4: 96.66666666666667%\n"
          ]
        }
      ]
    },
    {
      "cell_type": "markdown",
      "source": [],
      "metadata": {
        "id": "RO5-cdo9GVHt"
      }
    }
  ]
}